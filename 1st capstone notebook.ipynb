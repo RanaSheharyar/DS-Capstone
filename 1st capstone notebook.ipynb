{
 "cells": [
  {
   "cell_type": "markdown",
   "id": "b3109078",
   "metadata": {},
   "source": [
    "# Capstone Assignment 1st"
   ]
  },
  {
   "cell_type": "raw",
   "id": "fbcfd60e",
   "metadata": {},
   "source": [
    "# 1st Applied data Science Project "
   ]
  },
  {
   "cell_type": "code",
   "execution_count": 3,
   "id": "6ddea0de",
   "metadata": {},
   "outputs": [],
   "source": [
    "import pandas as pd\n",
    "import numpy as np"
   ]
  },
  {
   "cell_type": "code",
   "execution_count": 5,
   "id": "5cf66202",
   "metadata": {},
   "outputs": [
    {
     "name": "stdout",
     "output_type": "stream",
     "text": [
      "Hello Capstone Project Course!\n"
     ]
    }
   ],
   "source": [
    "print('Hello Capstone Project Course!')"
   ]
  }
 ],
 "metadata": {
  "kernelspec": {
   "display_name": "Python 3",
   "language": "python",
   "name": "python3"
  },
  "language_info": {
   "codemirror_mode": {
    "name": "ipython",
    "version": 3
   },
   "file_extension": ".py",
   "mimetype": "text/x-python",
   "name": "python",
   "nbconvert_exporter": "python",
   "pygments_lexer": "ipython3",
   "version": "3.8.8"
  }
 },
 "nbformat": 4,
 "nbformat_minor": 5
}
